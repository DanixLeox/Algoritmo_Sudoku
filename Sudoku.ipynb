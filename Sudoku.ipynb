{
  "nbformat": 4,
  "nbformat_minor": 0,
  "metadata": {
    "colab": {
      "provenance": [],
      "authorship_tag": "ABX9TyO+k+vrNY9V8KAqfIzI06ow",
      "include_colab_link": true
    },
    "kernelspec": {
      "name": "python3",
      "display_name": "Python 3"
    },
    "language_info": {
      "name": "python"
    }
  },
  "cells": [
    {
      "cell_type": "markdown",
      "metadata": {
        "id": "view-in-github",
        "colab_type": "text"
      },
      "source": [
        "<a href=\"https://colab.research.google.com/github/DanixLeox/Algoritmo_Sudoku/blob/main/Sudoku.ipynb\" target=\"_parent\"><img src=\"https://colab.research.google.com/assets/colab-badge.svg\" alt=\"Open In Colab\"/></a>"
      ]
    },
    {
      "cell_type": "code",
      "execution_count": null,
      "metadata": {
        "colab": {
          "base_uri": "https://localhost:8080/"
        },
        "id": "Ib2lBKJ1dpSB",
        "outputId": "66889d8d-8695-4835-93ce-0b944e3200d9"
      },
      "outputs": [
        {
          "output_type": "stream",
          "name": "stdout",
          "text": [
            "Tablero inicial:\n",
            "5 3 . . 7 . . . .\n",
            "6 . . 1 9 5 . . .\n",
            ". 9 8 . . . . 6 .\n",
            "8 . . . 6 . . . 3\n",
            "4 . . 8 . 3 . . 1\n",
            "7 . . . 2 . . . 6\n",
            ". 6 . . . . 2 8 .\n",
            ". . . 4 1 9 . . 5\n",
            ". . . . 8 . . 7 9\n",
            "\n",
            "Tablero resuelto:\n",
            "5 3 4 6 7 8 9 1 2\n",
            "6 7 2 1 9 5 3 4 8\n",
            "1 9 8 3 4 2 5 6 7\n",
            "8 5 9 7 6 1 4 2 3\n",
            "4 2 6 8 5 3 7 9 1\n",
            "7 1 3 9 2 4 8 5 6\n",
            "9 6 1 5 3 7 2 8 4\n",
            "2 8 7 4 1 9 6 3 5\n",
            "3 4 5 2 8 6 1 7 9\n",
            "\n",
            "Tiempo de ejecución: 0.053113 segundos\n"
          ]
        }
      ],
      "source": [
        "import time\n",
        "\n",
        "def is_valid(board, row, col, num):\n",
        "    \"\"\"Verifica si es válido colocar `num` en board[row][col].\"\"\"\n",
        "\n",
        "    # Verificar fila\n",
        "    if num in board[row]:\n",
        "        return False\n",
        "\n",
        "    # Verificar columna\n",
        "    if num in [board[i][col] for i in range(9)]:\n",
        "        return False\n",
        "\n",
        "    # Verificar subcuadrícula 3x3\n",
        "    start_row, start_col = 3 * (row // 3), 3 * (col // 3)\n",
        "    for i in range(start_row, start_row + 3):\n",
        "        for j in range(start_col, start_col + 3):\n",
        "            if board[i][j] == num:\n",
        "                return False\n",
        "\n",
        "    return True\n",
        "\n",
        "def solve_sudoku(board):\n",
        "    \"\"\"Resuelve el Sudoku utilizando Backtracking.\"\"\"\n",
        "    for row in range(9):\n",
        "        for col in range(9):\n",
        "            if board[row][col] == 0:  # Encontrar celda vacía\n",
        "                for num in range(1, 10):  # Probar números del 1 al 9\n",
        "                    if is_valid(board, row, col, num):\n",
        "                        board[row][col] = num  # Realizar el movimiento\n",
        "\n",
        "                        if solve_sudoku(board):  # Llamada recursiva\n",
        "                            return True\n",
        "\n",
        "                        board[row][col] = 0  # Deshacer el movimiento (backtrack)\n",
        "\n",
        "                return False  # No se pudo completar\n",
        "    return True\n",
        "\n",
        "def print_board(board):\n",
        "    \"\"\"Imprime el tablero de Sudoku.\"\"\"\n",
        "    for row in board:\n",
        "        print(\" \".join(str(num) if num != 0 else \".\" for num in row))\n",
        "\n",
        "# Ejemplo de tablero inicial de Sudoku (0 representa celdas vacías)\n",
        "sudoku_board = [\n",
        "    [5, 3, 0, 0, 7, 0, 0, 0, 0],\n",
        "    [6, 0, 0, 1, 9, 5, 0, 0, 0],\n",
        "    [0, 9, 8, 0, 0, 0, 0, 6, 0],\n",
        "    [8, 0, 0, 0, 6, 0, 0, 0, 3],\n",
        "    [4, 0, 0, 8, 0, 3, 0, 0, 1],\n",
        "    [7, 0, 0, 0, 2, 0, 0, 0, 6],\n",
        "    [0, 6, 0, 0, 0, 0, 2, 8, 0],\n",
        "    [0, 0, 0, 4, 1, 9, 0, 0, 5],\n",
        "    [0, 0, 0, 0, 8, 0, 0, 7, 9]\n",
        "]\n",
        "\n",
        "# Medir el tiempo de ejecución\n",
        "print(\"Tablero inicial:\")\n",
        "print_board(sudoku_board)\n",
        "\n",
        "start_time = time.time()  # Tiempo inicial\n",
        "\n",
        "if solve_sudoku(sudoku_board):\n",
        "    end_time = time.time()  # Tiempo final\n",
        "    print(\"\\nTablero resuelto:\")\n",
        "    print_board(sudoku_board)\n",
        "    print(f\"\\nTiempo de ejecución: {end_time - start_time:.6f} segundos\")\n",
        "else:\n",
        "    end_time = time.time()  # Tiempo final\n",
        "    print(\"No se pudo resolver el Sudoku.\")\n",
        "    print(f\"\\nTiempo de ejecución: {end_time - start_time:.6f} segundos\")\n",
        "\n"
      ]
    }
  ]
}