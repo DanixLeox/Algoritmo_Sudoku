{
  "nbformat": 4,
  "nbformat_minor": 0,
  "metadata": {
    "colab": {
      "provenance": [],
      "authorship_tag": "ABX9TyNDtnR+wdAt8N8wTTsTguNh",
      "include_colab_link": true
    },
    "kernelspec": {
      "name": "python3",
      "display_name": "Python 3"
    },
    "language_info": {
      "name": "python"
    }
  },
  "cells": [
    {
      "cell_type": "markdown",
      "metadata": {
        "id": "view-in-github",
        "colab_type": "text"
      },
      "source": [
        "<a href=\"https://colab.research.google.com/github/DanixLeox/Algoritmo_Sudoku/blob/main/Ejemplos_Comparaci%C3%B3n.ipynb\" target=\"_parent\"><img src=\"https://colab.research.google.com/assets/colab-badge.svg\" alt=\"Open In Colab\"/></a>"
      ]
    },
    {
      "cell_type": "markdown",
      "source": [
        "# Algoritmo Dinamico"
      ],
      "metadata": {
        "id": "9_ZYcRgqCbAh"
      }
    },
    {
      "cell_type": "code",
      "execution_count": null,
      "metadata": {
        "id": "Byzyo4ERCWaJ"
      },
      "outputs": [],
      "source": [
        "def solve_sudoku_dynamic(board):\n",
        "    memo = {}\n",
        "\n",
        "    def is_valid(board, row, col, num):\n",
        "        for i in range(9):\n",
        "            if board[row][i] == num or board[i][col] == num:\n",
        "                return False\n",
        "        box_row, box_col = 3 * (row // 3), 3 * (col // 3)\n",
        "        for i in range(box_row, box_row + 3):\n",
        "            for j in range(box_col, box_col + 3):\n",
        "                if board[i][j] == num:\n",
        "                    return False\n",
        "        return True\n",
        "\n",
        "    def solve(board):\n",
        "        key = tuple(tuple(row) for row in board)\n",
        "        if key in memo:\n",
        "            return memo[key]\n",
        "\n",
        "        for row in range(9):\n",
        "            for col in range(9):\n",
        "                if board[row][col] == 0:\n",
        "                    for num in range(1, 10):\n",
        "                        if is_valid(board, row, col, num):\n",
        "                            board[row][col] = num\n",
        "                            if solve(board):\n",
        "                                memo[key] = True\n",
        "                                return True\n",
        "                            board[row][col] = 0\n",
        "                    memo[key] = False\n",
        "                    return False\n",
        "        memo[key] = True\n",
        "        return True\n",
        "\n",
        "    if solve(board):\n",
        "        return board\n",
        "    else:\n",
        "        return None\n",
        "\n",
        "# Ejemplo de uso\n",
        "sudoku_board = [\n",
        "    [5, 3, 0, 0, 7, 0, 0, 0, 0],\n",
        "    [6, 0, 0, 1, 9, 5, 0, 0, 0],\n",
        "    [0, 9, 8, 0, 0, 0, 0, 6, 0],\n",
        "    [8, 0, 0, 0, 6, 0, 0, 0, 3],\n",
        "    [4, 0, 0, 8, 0, 3, 0, 0, 1],\n",
        "    [7, 0, 0, 0, 2, 0, 0, 0, 6],\n",
        "    [0, 6, 0, 0, 0, 0, 2, 8, 0],\n",
        "    [0, 0, 0, 4, 1, 9, 0, 0, 5],\n",
        "    [0, 0, 0, 0, 8, 0, 0, 7, 9],\n",
        "]\n",
        "print(solve_sudoku_dynamic(sudoku_board))\n"
      ]
    },
    {
      "cell_type": "markdown",
      "source": [
        "# Algoritmo Divide y Venceras"
      ],
      "metadata": {
        "id": "HTWRMKdtCfYf"
      }
    },
    {
      "cell_type": "code",
      "source": [
        "def solve_sudoku_divide_and_conquer(board):\n",
        "    def is_valid(board, row, col, num):\n",
        "        for i in range(9):\n",
        "            if board[row][i] == num or board[i][col] == num:\n",
        "                return False\n",
        "        box_row, box_col = 3 * (row // 3), 3 * (col // 3)\n",
        "        for i in range(box_row, box_row + 3):\n",
        "            for j in range(box_col, box_col + 3):\n",
        "                if board[i][j] == num:\n",
        "                    return False\n",
        "        return True\n",
        "\n",
        "    def solve(board, sub_row=0, sub_col=0):\n",
        "        if sub_row == 9:\n",
        "            return True\n",
        "        next_row, next_col = (sub_row + (sub_col + 1) // 9), (sub_col + 1) % 9\n",
        "        if board[sub_row][sub_col] != 0:\n",
        "            return solve(board, next_row, next_col)\n",
        "\n",
        "        for num in range(1, 10):\n",
        "            if is_valid(board, sub_row, sub_col, num):\n",
        "                board[sub_row][sub_col] = num\n",
        "                if solve(board, next_row, next_col):\n",
        "                    return True\n",
        "                board[sub_row][sub_col] = 0\n",
        "        return False\n",
        "\n",
        "    if solve(board):\n",
        "        return board\n",
        "    else:\n",
        "        return None\n",
        "\n",
        "# Ejemplo de uso\n",
        "print(solve_sudoku_divide_and_conquer(sudoku_board))\n"
      ],
      "metadata": {
        "id": "8CrzEfTBClPU"
      },
      "execution_count": null,
      "outputs": []
    },
    {
      "cell_type": "markdown",
      "source": [
        "# Algoritmo Voraz"
      ],
      "metadata": {
        "id": "c-Wh4Q7MCno5"
      }
    },
    {
      "cell_type": "code",
      "source": [
        "def solve_sudoku_greedy(board):\n",
        "    from heapq import heappush, heappop\n",
        "\n",
        "    def is_valid(board, row, col, num):\n",
        "        for i in range(9):\n",
        "            if board[row][i] == num or board[i][col] == num:\n",
        "                return False\n",
        "        box_row, box_col = 3 * (row // 3), 3 * (col // 3)\n",
        "        for i in range(box_row, box_row + 3):\n",
        "            for j in range(box_col, box_col + 3):\n",
        "                if board[i][j] == num:\n",
        "                    return False\n",
        "        return True\n",
        "\n",
        "    def find_best_cell(board):\n",
        "        heap = []\n",
        "        for row in range(9):\n",
        "            for col in range(9):\n",
        "                if board[row][col] == 0:\n",
        "                    possible_nums = [\n",
        "                        num for num in range(1, 10) if is_valid(board, row, col, num)\n",
        "                    ]\n",
        "                    heappush(heap, (len(possible_nums), row, col, possible_nums))\n",
        "        return heappop(heap) if heap else None\n",
        "\n",
        "    def solve(board):\n",
        "        best_cell = find_best_cell(board)\n",
        "        if not best_cell:\n",
        "            return True\n",
        "        _, row, col, nums = best_cell\n",
        "        for num in nums:\n",
        "            board[row][col] = num\n",
        "            if solve(board):\n",
        "                return True\n",
        "            board[row][col] = 0\n",
        "        return False\n",
        "\n",
        "    if solve(board):\n",
        "        return board\n",
        "    else:\n",
        "        return None\n",
        "\n",
        "# Ejemplo de uso\n",
        "print(solve_sudoku_greedy(sudoku_board))\n"
      ],
      "metadata": {
        "id": "YVKUsKzjCrSF"
      },
      "execution_count": null,
      "outputs": []
    }
  ]
}